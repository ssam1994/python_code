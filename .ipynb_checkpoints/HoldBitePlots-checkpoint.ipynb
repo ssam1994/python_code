{
 "cells": [
  {
   "cell_type": "code",
   "execution_count": 18,
   "metadata": {},
   "outputs": [],
   "source": [
    "#############################################################################\n",
    "#\n",
    "# Plot HoldBite data \n",
    "# 08/19/19\n",
    "#\n",
    "#############################################################################\n",
    "import numpy as np\n",
    "import os, sys\n",
    "from datetime import datetime as dt\n",
    "import importlib\n",
    "import matplotlib as mpl\n",
    "import matplotlib.pyplot as plt\n",
    "import matplotlib.image as mpimg\n",
    "import json\n",
    "import random\n",
    "import re\n",
    "from PIL import Image, ImageFont, ImageDraw\n",
    "import argparse\n",
    "import time\n",
    "from pathlib import Path\n",
    "import time\n",
    "from scipy.stats import t\n",
    "import mat4py as mpy\n",
    "import scipy.io as sio"
   ]
  },
  {
   "cell_type": "code",
   "execution_count": 19,
   "metadata": {},
   "outputs": [],
   "source": [
    "codeFolder = Path().absolute()\n",
    "dDrive = os.path.dirname(codeFolder)\n",
    "academyDataFolder = 'academy_data'\n",
    "holdBiteDataFolder = 'HoldBiteData_M18_M19_M20_M22'\n",
    "analysisFolder = 'Analysis'\n",
    "academyDataPath = os.path.join(dDrive, academyDataFolder, holdBiteDataFolder)\n",
    "analysisPath = os.path.join(academyDataPath, analysisFolder)"
   ]
  },
  {
   "cell_type": "code",
   "execution_count": 23,
   "metadata": {},
   "outputs": [
    {
     "name": "stdout",
     "output_type": "stream",
     "text": [
      "['Subjects', 'Protocol', 'M18', 'M19', 'M20', 'M22']\n"
     ]
    }
   ],
   "source": [
    "matFileName = 'HoldBiteData_M18_M19_M20_M22.mat'\n",
    "matDataPath = os.path.join(analysisPath, matFileName)\n",
    "mat = mat2dict(matDataPath)\n"
   ]
  },
  {
   "cell_type": "code",
   "execution_count": 24,
   "metadata": {},
   "outputs": [],
   "source": [
    "#############################################################################\n",
    "#\n",
    "# Takes path to raw matfile, returns dict\n",
    "#\n",
    "# input arguments:\n",
    "# matFilePath - (string) full path to .mat file\n",
    "#\n",
    "# return:\n",
    "# data - (dict) dictionary of .mat structure\n",
    "#\n",
    "#############################################################################\n",
    "def mat2dict(matFilePath):\n",
    "    mat = sio.loadmat(matDataPath)  # load mat-file\n",
    "    data = {}\n",
    "    fieldNames = []\n",
    "    for key in mat.keys():\n",
    "        if '__' not in key and 'None' not in key:\n",
    "            fieldNames = fieldNames + [key]\n",
    "    \n",
    "    for field in fieldNames:\n",
    "        fdata = mat[field] # variable in mat file\n",
    "        fdtype = fdata.dtype # dtypes of structures are \"unsized objects\"\n",
    "\n",
    "        # * SciPy reads in structures as structured NumPy arrays of dtype object\n",
    "        # * The size of the array is the size of the structure array, not the number\n",
    "        #   elements in any particular field. The shape defaults to 2-dimensional.\n",
    "        # * For convenience make a dictionary of the data using the names from dtypes\n",
    "        # * Since the structure has only one element, but is 2-D, index it at [0, 0]\n",
    "        fdict = {n: fdata[n][0, 0] for n in mdtype.names}\n",
    "        print(fdict)\n",
    "    return data"
   ]
  },
  {
   "cell_type": "code",
   "execution_count": null,
   "metadata": {},
   "outputs": [],
   "source": []
  }
 ],
 "metadata": {
  "kernelspec": {
   "display_name": "Python 3",
   "language": "python",
   "name": "python3"
  },
  "language_info": {
   "codemirror_mode": {
    "name": "ipython",
    "version": 3
   },
   "file_extension": ".py",
   "mimetype": "text/x-python",
   "name": "python",
   "nbconvert_exporter": "python",
   "pygments_lexer": "ipython3",
   "version": "3.7.3"
  }
 },
 "nbformat": 4,
 "nbformat_minor": 2
}
