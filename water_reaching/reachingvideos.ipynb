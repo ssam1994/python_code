{
 "cells": [
  {
   "cell_type": "code",
   "execution_count": 6,
   "metadata": {},
   "outputs": [],
   "source": [
    "#############################################################################\n",
    "#\n",
    "# Make Reaching Movies\n",
    "# 02/24/20\n",
    "#\n",
    "#############################################################################\n",
    "import numpy as np\n",
    "import os, sys\n",
    "from datetime import datetime as dt\n",
    "import importlib\n",
    "import matplotlib as mpl\n",
    "import matplotlib.pyplot as plt\n",
    "import matplotlib.image as mpimg\n",
    "from matplotlib.collections import PatchCollection\n",
    "from matplotlib.patches import Rectangle\n",
    "from matplotlib.backends.backend_agg import FigureCanvasAgg as FigureCanvas\n",
    "import json\n",
    "import random\n",
    "import re\n",
    "from PIL import Image, ImageFont, ImageDraw\n",
    "import cv2\n",
    "import dlib\n",
    "import argparse\n",
    "import imutils\n",
    "import time\n",
    "from imutils.video import VideoStream\n",
    "import statistics\n",
    "from pathlib import Path\n",
    "import csv\n",
    "from scipy.stats import t\n",
    "from holdbite_utils import *\n",
    "from cv_utils import *"
   ]
  },
  {
   "cell_type": "code",
   "execution_count": 7,
   "metadata": {},
   "outputs": [],
   "source": [
    "#############################################################################\n",
    "#\n",
    "# Define data folders\n",
    "#\n",
    "#############################################################################\n",
    "\n",
    "dDrive = \"D:%s\" % os.sep\n",
    "videoFolder = 'reachingvideos'\n",
    "videoPath = os.path.join(dDrive, videoFolder)"
   ]
  },
  {
   "cell_type": "code",
   "execution_count": 3,
   "metadata": {},
   "outputs": [],
   "source": [
    "def splitVideo(vidPath, codec='MJPG',ext='.avi', w=1280, h=1024, fontSize=40):\n",
    "    vidFolder, vidFile = os.path.split(vidPath)\n",
    "    vidName, avi = os.path.splitext(vidFile)\n",
    "    vidNameTop = vidName + '_top'\n",
    "    vidNameBottom = vidName + '_bottom'\n",
    "    print('vidPath', vidPath)\n",
    "    \n",
    "    cap = cv2.VideoCapture(vidPath)\n",
    "    print('cap', cap)\n",
    "    \n",
    "    fps = cap.get(cv2.CAP_PROP_FPS)\n",
    "    print('fps', fps)\n",
    "    fourcc = cv2.VideoWriter_fourcc(*codec)\n",
    "    print(os.path.join(vidFolder, vidNameTop + ext))\n",
    "    writerTop = cv2.VideoWriter(os.path.join(vidFolder, vidNameTop + ext), fourcc, fps, (w, h), False)\n",
    "    writerBottom = cv2.VideoWriter(os.path.join(vidFolder, vidNameBottom + ext), fourcc, fps, (w, h), False)\n",
    "    ret = True\n",
    "    frameNum = 0\n",
    "    while ret:\n",
    "        ret, frameRGB = cap.read()\n",
    "        if not ret:\n",
    "            break\n",
    "            \n",
    "        frameImRGB = Image.fromarray(frameRGB, 'RGB')\n",
    "        frameImGray = frameImRGB.convert('L')\n",
    "        frame = np.array(frameImGray)\n",
    "            \n",
    "        frameTop = frame[:h,:]\n",
    "        frameBottom = frame[h:,:]\n",
    "        frameBottom = frameBottom[::-1,:]\n",
    "        writerTop.write(frameTop)\n",
    "        writerBottom.write(frameBottom)\n",
    "        # show the frames\n",
    "        #cv2.imshow('frameTop', frameTop)\n",
    "        cv2.imshow('frameBottom', frameBottom)\n",
    "        frameNum+=1\n",
    "        key = cv2.waitKey(1) & 0xFF\n",
    "        # if the `q` key was pressed, break from the loop\n",
    "        if key == ord(\"q\"):\n",
    "            break\n",
    "\n",
    "    # do a bit of cleanup\n",
    "    print(\"[INFO] cleaning up...\")\n",
    "    cv2.destroyAllWindows()\n",
    "    writerTop.release()\n",
    "    writerBottom.release()"
   ]
  },
  {
   "cell_type": "code",
   "execution_count": 5,
   "metadata": {},
   "outputs": [
    {
     "name": "stdout",
     "output_type": "stream",
     "text": [
      "vidPath D:\\reachingvideos\\20200124_WT0_P3_L2.avi\n",
      "cap <VideoCapture 000001C561670890>\n",
      "fps 60.0\n",
      "D:\\reachingvideos\\20200124_WT0_P3_L2_top.avi\n",
      "[INFO] cleaning up...\n",
      "vidPath D:\\reachingvideos\\20200124_WT0_P2_C2_2.avi\n",
      "cap <VideoCapture 000001C548B17ED0>\n",
      "fps 60.0\n",
      "D:\\reachingvideos\\20200124_WT0_P2_C2_2_top.avi\n",
      "[INFO] cleaning up...\n",
      "vidPath D:\\reachingvideos\\20200124_WT0_P2_C2_1.avi\n",
      "cap <VideoCapture 000001C55FE2C8F0>\n",
      "fps 60.0\n",
      "D:\\reachingvideos\\20200124_WT0_P2_C2_1_top.avi\n",
      "[INFO] cleaning up...\n",
      "vidPath D:\\reachingvideos\\20200124_WT0_P1_C1.avi\n",
      "cap <VideoCapture 000001C561670890>\n",
      "fps 60.0\n",
      "D:\\reachingvideos\\20200124_WT0_P1_C1_top.avi\n",
      "[INFO] cleaning up...\n"
     ]
    }
   ],
   "source": [
    "vidPath1 = os.path.join(videoPath, '20200124_WT0_P5_L2.avi')\n",
    "vidPath2 = os.path.join(videoPath, '20200124_WT0_P3_L2.avi')\n",
    "vidPath3 = os.path.join(videoPath, '20200124_WT0_P2_C2_2.avi')\n",
    "vidPath4 = os.path.join(videoPath, '20200124_WT0_P2_C2_1.avi')\n",
    "vidPath5 = os.path.join(videoPath, '20200124_WT0_P1_C1.avi')\n",
    "splitVideo(vidPath2)\n",
    "splitVideo(vidPath3)\n",
    "splitVideo(vidPath4)\n",
    "splitVideo(vidPath5)\n",
    "#splitVideo(vidPath2)"
   ]
  },
  {
   "cell_type": "code",
   "execution_count": 159,
   "metadata": {},
   "outputs": [
    {
     "ename": "NameError",
     "evalue": "name 'writer' is not defined",
     "output_type": "error",
     "traceback": [
      "\u001b[1;31m---------------------------------------------------------------------------\u001b[0m",
      "\u001b[1;31mNameError\u001b[0m                                 Traceback (most recent call last)",
      "\u001b[1;32m<ipython-input-159-263a071ec47e>\u001b[0m in \u001b[0;36m<module>\u001b[1;34m\u001b[0m\n\u001b[1;32m----> 1\u001b[1;33m \u001b[0mwriter\u001b[0m\u001b[1;33m.\u001b[0m\u001b[0mrelease\u001b[0m\u001b[1;33m(\u001b[0m\u001b[1;33m)\u001b[0m\u001b[1;33m\u001b[0m\u001b[1;33m\u001b[0m\u001b[0m\n\u001b[0m",
      "\u001b[1;31mNameError\u001b[0m: name 'writer' is not defined"
     ]
    }
   ],
   "source": [
    "writer.release()"
   ]
  },
  {
   "cell_type": "code",
   "execution_count": 103,
   "metadata": {},
   "outputs": [
    {
     "data": {
      "text/plain": [
       "'393.8775372505188'"
      ]
     },
     "execution_count": 103,
     "metadata": {},
     "output_type": "execute_result"
    }
   ],
   "source": [
    "bodyParts['nose']['x'][0]"
   ]
  },
  {
   "cell_type": "code",
   "execution_count": null,
   "metadata": {},
   "outputs": [],
   "source": []
  }
 ],
 "metadata": {
  "kernelspec": {
   "display_name": "Python 3",
   "language": "python",
   "name": "python3"
  },
  "language_info": {
   "codemirror_mode": {
    "name": "ipython",
    "version": 3
   },
   "file_extension": ".py",
   "mimetype": "text/x-python",
   "name": "python",
   "nbconvert_exporter": "python",
   "pygments_lexer": "ipython3",
   "version": "3.6.8"
  }
 },
 "nbformat": 4,
 "nbformat_minor": 2
}
