{
 "cells": [
  {
   "cell_type": "code",
   "execution_count": 2,
   "metadata": {},
   "outputs": [],
   "source": [
    "#############################################################################\n",
    "#\n",
    "# Make SeedEating Movies\n",
    "# 08/31/19\n",
    "#\n",
    "#############################################################################\n",
    "import numpy as np\n",
    "import os, sys\n",
    "from datetime import datetime as dt\n",
    "import importlib\n",
    "import matplotlib as mpl\n",
    "import matplotlib.pyplot as plt\n",
    "import matplotlib.image as mpimg\n",
    "from matplotlib.collections import PatchCollection\n",
    "from matplotlib.patches import Rectangle\n",
    "from matplotlib.backends.backend_agg import FigureCanvasAgg as FigureCanvas\n",
    "import json\n",
    "import random\n",
    "import re\n",
    "from PIL import Image, ImageFont, ImageDraw\n",
    "import cv2\n",
    "import dlib\n",
    "import argparse\n",
    "import imutils\n",
    "import time\n",
    "from imutils.video import VideoStream\n",
    "import statistics\n",
    "from pathlib import Path\n",
    "import csv\n",
    "from scipy.stats import t\n",
    "from holdbite_utils import *\n",
    "from cv_utils import *"
   ]
  },
  {
   "cell_type": "code",
   "execution_count": 3,
   "metadata": {},
   "outputs": [],
   "source": [
    "#############################################################################\n",
    "#\n",
    "# Define data folders\n",
    "#\n",
    "#############################################################################\n",
    "\n",
    "dDrive = \"D:%s\" % os.sep\n",
    "eatingBoxFolder = 'eating_box'\n",
    "videoFolder = 'FullVideos'\n",
    "dayFolder = '20190801-full'\n",
    "\n",
    "dayPath = os.path.join(dDrive, eatingBoxFolder, videoFolder, dayFolder)"
   ]
  },
  {
   "cell_type": "code",
   "execution_count": null,
   "metadata": {},
   "outputs": [],
   "source": [
    "myFile = os.path.join(dayPath, '20190801-wt0-day04-fullseed-video-02-cam1-fullDeepCut_resnet50_SeedEatingAug26shuffle2_353000.csv')"
   ]
  },
  {
   "cell_type": "code",
   "execution_count": 4,
   "metadata": {},
   "outputs": [],
   "source": [
    "\n",
    "                "
   ]
  },
  {
   "cell_type": "code",
   "execution_count": 5,
   "metadata": {},
   "outputs": [],
   "source": [
    "#############################################################################\n",
    "#\n",
    "# Takes list of paths to videos and creates synced video\n",
    "#\n",
    "# input arguments:\n",
    "# imgFolderList - (list of strings) full paths to 2 or 3 videos\n",
    "# saveTo        - (string) full path to folder where movie will be saved\n",
    "# movieName     - (string) name of video file to be saved\n",
    "# \n",
    "#############################################################################\n",
    "def syncLabeledVideos(vidFileList,labelFileList,saveTo, movieName, h=480,w=640,codec='XVID',ext='.avi',fontSize=40):\n",
    "    #Initialize variables\n",
    "    vidFile1 = vidFileList[0]\n",
    "    cap1 = cv2.VideoCapture(vidFile1)\n",
    "    bodyParts1 = loadLabels(labelFileList[0])\n",
    "    \n",
    "    vidFile2 = vidFileList[1]\n",
    "    cap2 = cv2.VideoCapture(vidFile2)\n",
    "    bodyParts2 = loadLabels(labelFileList[1])\n",
    "    \n",
    "    try:\n",
    "        vidFile3 = vidFileList[2]\n",
    "        cap3 = cv2.VideoCapture(vidFile3)\n",
    "        bodyParts3 = loadLabels(labelFileList[2])\n",
    "        hasThirdVideo = True\n",
    "    except:\n",
    "        hasThirdVideo = False\n",
    "        print('No third video.')\n",
    "    movieName = movieName + ext\n",
    "   \n",
    "    fps = cap1.get(cv2.CAP_PROP_FPS)\n",
    "    fourcc = cv2.VideoWriter_fourcc(*codec)\n",
    "    writer = cv2.VideoWriter(os.path.join(saveTo, movieName), fourcc, fps, (2*w, 2*h), True)\n",
    "\n",
    "    #Main for loop\n",
    "    #Opens image, adds text to image, adds image to movie writer\n",
    "    print('Frame Rate:', fps)\n",
    "    \n",
    "        \n",
    "    font = ImageFont.truetype(os.path.join(\"D:%s\" % os.sep, 'python_code', 'Roboto', 'Roboto-Black.ttf'), fontSize)\n",
    "    \n",
    "    #draw object for info panel\n",
    "    infoImg = Image.new('RGB', (w, h))\n",
    "    drawObjTL = ImageDraw.Draw(infoImg)\n",
    "    xpos = 30\n",
    "    ypos = 10\n",
    "    yinc = fontSize\n",
    "    text_color = (255, 255, 255)\n",
    "    colorList = [(180, 230, 245),\n",
    "                (0, 71, 160),\n",
    "                (36, 211, 154),\n",
    "                (205, 2, 43)]\n",
    "    bodyPartCols = {}\n",
    "    for p, part in enumerate(bodyParts1.keys()):\n",
    "        bodyPartCols.update({part:colorList[p]})\n",
    "    \n",
    "\n",
    "    for part in bodyPartCols:\n",
    "        drawObjTL.text((xpos, ypos), part, fill=bodyPartCols[part], font=font)\n",
    "        drawObjTL.ellipse([5, ypos+15, 25, ypos+35], fill=bodyPartCols[part])\n",
    "        ypos += yinc\n",
    "        \n",
    "    ypos += yinc\n",
    "    lcutoff = 0.1\n",
    "    drawObjTL.text((5, ypos), 'likelihood>%.2f' %lcutoff, fill=text_color, font=font)\n",
    "        \n",
    "    topLeftPanel = np.flip(np.array(infoImg), axis=2)\n",
    "    if not hasThirdVideo:\n",
    "        bottomLeftPanel = np.zeros((h,w))\n",
    "        \n",
    "    markerRadius = 5\n",
    "    \n",
    "    ret = True\n",
    "    frameNum = 0\n",
    "    while ret:\n",
    "        ret1, frame1 = cap1.read()\n",
    "        ret2, frame2 = cap2.read()\n",
    "        if hasThirdVideo:\n",
    "            ret3, frame3 = cap3.read()\n",
    "            ret = ret1 and ret2 and ret3\n",
    "        else:\n",
    "            ret = ret1 and ret2\n",
    "        if not ret:\n",
    "            break\n",
    "            \n",
    "        topRightPanelImg = Image.fromarray(frame1).convert('RGB')\n",
    "        drawObjTR = ImageDraw.Draw(topRightPanelImg)\n",
    "        for part in bodyParts1:\n",
    "            x = bodyParts1[part]['x'][frameNum]\n",
    "            y = bodyParts1[part]['y'][frameNum]\n",
    "            l = bodyParts1[part]['likelihood'][frameNum]\n",
    "            ladd = np.log10(l)\n",
    "            xy = [int(x-(markerRadius+ladd)), int(y-(markerRadius+ladd)), \n",
    "                  int(x+markerRadius+ladd), int(y+(markerRadius+ladd))]\n",
    "            if l>lcutoff:\n",
    "                drawObjTR.ellipse(xy,\n",
    "                              fill=bodyPartCols[part], outline=None)\n",
    "        topRightPanel = np.flip(np.array(topRightPanelImg), axis=2)\n",
    "        \n",
    "        bottomRightPanelImg =Image.fromarray(frame2).convert('RGB')\n",
    "        drawObjBR = ImageDraw.Draw(bottomRightPanelImg)\n",
    "        for part in bodyParts2:\n",
    "            x = bodyParts2[part]['x'][frameNum]\n",
    "            y = bodyParts2[part]['y'][frameNum]\n",
    "            l = bodyParts2[part]['likelihood'][frameNum]\n",
    "            ladd = np.log10(l)\n",
    "            xy = [int(x-(markerRadius+ladd)), int(y-(markerRadius+ladd)), \n",
    "                  int(x+markerRadius+ladd), int(y+(markerRadius+ladd))]\n",
    "            if l>lcutoff:\n",
    "                drawObjBR.ellipse(xy,\n",
    "                              fill=bodyPartCols[part], outline=None)\n",
    "        bottomRightPanel = np.flip(np.array(bottomRightPanelImg), axis=2)\n",
    "        \n",
    "        #look for closest frame time for bottom left panel\n",
    "        if hasThirdVideo:\n",
    "            bottomLeftPanelImg =Image.fromarray(frame3).convert('RGB')\n",
    "            drawObjBL = ImageDraw.Draw(bottomLeftPanelImg)\n",
    "            for part in bodyParts3:\n",
    "                x = bodyParts3[part]['x'][frameNum]\n",
    "                y = bodyParts3[part]['y'][frameNum]\n",
    "                l = bodyParts3[part]['likelihood'][frameNum]\n",
    "                ladd = np.log10(l)\n",
    "                xy = [int(x-(markerRadius+ladd)), int(y-(markerRadius+ladd)), int(x+markerRadius+ladd), int(y+(markerRadius+ladd))]\n",
    "                if l>lcutoff:\n",
    "                    drawObjBL.ellipse(xy,fill=bodyPartCols[part], outline=None)\n",
    "            bottomLeftPanel = np.flip(np.array(bottomLeftPanelImg), axis=2)\n",
    "            \n",
    "        topCat = np.hstack([topLeftPanel, topRightPanel])\n",
    "        botCat = np.hstack([bottomLeftPanel, bottomRightPanel])\n",
    "                                           \n",
    "        outputFrame = np.vstack([topCat, botCat])\n",
    "\n",
    "        writer.write(outputFrame)\n",
    "        # show the frames\n",
    "        cv2.imshow('outputFrame', outputFrame)\n",
    "        frameNum+=1\n",
    "        key = cv2.waitKey(1) & 0xFF\n",
    "        # if the `q` key was pressed, break from the loop\n",
    "        if key == ord(\"q\"):\n",
    "            break\n",
    "\n",
    "    # do a bit of cleanup\n",
    "    print(\"[INFO] cleaning up...\")\n",
    "    cv2.destroyAllWindows()\n",
    "    writer.release()"
   ]
  },
  {
   "cell_type": "code",
   "execution_count": 157,
   "metadata": {},
   "outputs": [
    {
     "name": "stderr",
     "output_type": "stream",
     "text": [
      "d:\\anaconda\\envs\\cv36\\lib\\site-packages\\ipykernel_launcher.py:17: FutureWarning: elementwise comparison failed; returning scalar instead, but in the future will perform elementwise comparison\n",
      "d:\\anaconda\\envs\\cv36\\lib\\site-packages\\ipykernel_launcher.py:26: FutureWarning: elementwise comparison failed; returning scalar instead, but in the future will perform elementwise comparison\n"
     ]
    },
    {
     "name": "stdout",
     "output_type": "stream",
     "text": [
      "Frame Rate: 30.0\n",
      "[INFO] cleaning up...\n"
     ]
    }
   ],
   "source": [
    "vidFileList = [os.path.join(dayPath, '20190801-wt0-day04-fullseed-video-02-cam1-full.avi'),\n",
    "              os.path.join(dayPath, '20190801-wt0-day04-fullseed-video-02-cam2-full.avi'),\n",
    "              os.path.join(dayPath, '20190801-wt0-day04-fullseed-video-02-cam3-full.avi')]\n",
    "labelFileList = [os.path.join(dayPath, '20190801-wt0-day04-fullseed-video-02-cam1-fullDeepCut_resnet50_SeedEatingAug26shuffle2_353000.csv'),\n",
    "                os.path.join(dayPath, '20190801-wt0-day04-fullseed-video-02-cam2-fullDeepCut_resnet50_SeedEatingAug26shuffle2_353000.csv'),\n",
    "                os.path.join(dayPath, '20190801-wt0-day04-fullseed-video-02-cam3-fullDeepCut_resnet50_SeedEatingAug26shuffle2_353000.csv')]\n",
    "syncLabeledVideos(vidFileList, labelFileList, dayPath, '20190801-wt0-day04-fullseed-video-02-synced')"
   ]
  },
  {
   "cell_type": "code",
   "execution_count": 165,
   "metadata": {},
   "outputs": [
    {
     "name": "stderr",
     "output_type": "stream",
     "text": [
      "d:\\anaconda\\envs\\cv36\\lib\\site-packages\\ipykernel_launcher.py:17: FutureWarning: elementwise comparison failed; returning scalar instead, but in the future will perform elementwise comparison\n",
      "d:\\anaconda\\envs\\cv36\\lib\\site-packages\\ipykernel_launcher.py:26: FutureWarning: elementwise comparison failed; returning scalar instead, but in the future will perform elementwise comparison\n"
     ]
    },
    {
     "name": "stdout",
     "output_type": "stream",
     "text": [
      "Frame Rate: 30.0\n",
      "[INFO] cleaning up...\n"
     ]
    }
   ],
   "source": [
    "dlcFolder = os.path.join(dDrive, 'DeepLabCut')\n",
    "vidFileList = [os.path.join(dlcFolder, 'projects', 'SeedEating-Sarah-2019-08-26', 'videos', '20190801-wt0-day04-fullseed-video-03-cam1-full.avi'),\n",
    "              os.path.join(dlcFolder, 'projects', 'SeedEating-Sarah-2019-08-26', 'videos', '20190801-wt0-day04-fullseed-video-03-cam2-full.avi'),\n",
    "              os.path.join(dlcFolder, 'projects', 'SeedEating-Sarah-2019-08-26', 'videos', '20190801-wt0-day04-fullseed-video-03-cam3-full.avi')]\n",
    "labelFileList = [os.path.join(dlcFolder, 'projects', 'SeedEating-Sarah-2019-08-26', 'videos', '20190801-wt0-day04-fullseed-video-03-cam1-fullDeepCut_resnet50_SeedEatingAug26shuffle2_353000.csv'),\n",
    "                os.path.join(dlcFolder, 'projects', 'SeedEating-Sarah-2019-08-26', 'videos', '20190801-wt0-day04-fullseed-video-03-cam2-fullDeepCut_resnet50_SeedEatingAug26shuffle2_353000.csv'),\n",
    "                os.path.join(dlcFolder, 'projects', 'SeedEating-Sarah-2019-08-26', 'videos', '20190801-wt0-day04-fullseed-video-03-cam3-fullDeepCut_resnet50_SeedEatingAug26shuffle2_353000.csv')]\n",
    "syncLabeledVideos(vidFileList, labelFileList, os.path.join(dlcFolder, 'projects', 'SeedEating-Sarah-2019-08-26', 'videos'), '20190801-wt0-day04-fullseed-video-03-synced')"
   ]
  },
  {
   "cell_type": "code",
   "execution_count": 167,
   "metadata": {},
   "outputs": [
    {
     "name": "stderr",
     "output_type": "stream",
     "text": [
      "d:\\anaconda\\envs\\cv36\\lib\\site-packages\\ipykernel_launcher.py:17: FutureWarning: elementwise comparison failed; returning scalar instead, but in the future will perform elementwise comparison\n",
      "d:\\anaconda\\envs\\cv36\\lib\\site-packages\\ipykernel_launcher.py:26: FutureWarning: elementwise comparison failed; returning scalar instead, but in the future will perform elementwise comparison\n"
     ]
    },
    {
     "name": "stdout",
     "output_type": "stream",
     "text": [
      "Frame Rate: 30.0\n",
      "[INFO] cleaning up...\n"
     ]
    }
   ],
   "source": [
    "dlcFolder = os.path.join(dDrive, 'DeepLabCut')\n",
    "vidFileList = [os.path.join(dlcFolder, 'projects', 'SeedEating-Sarah-2019-08-26', 'videos', '20190806-x5-day02-crackedseed-video-02-cam1-full.avi'),\n",
    "              os.path.join(dlcFolder, 'projects', 'SeedEating-Sarah-2019-08-26', 'videos', '20190806-x5-day02-crackedseed-video-02-cam2-full.avi'),\n",
    "              os.path.join(dlcFolder, 'projects', 'SeedEating-Sarah-2019-08-26', 'videos', '20190806-x5-day02-crackedseed-video-02-cam3-full.avi')]\n",
    "labelFileList = [os.path.join(dlcFolder, 'projects', 'SeedEating-Sarah-2019-08-26', 'videos', '20190806-x5-day02-crackedseed-video-02-cam1-fullDeepCut_resnet50_SeedEatingAug26shuffle2_353000.csv'),\n",
    "                os.path.join(dlcFolder, 'projects', 'SeedEating-Sarah-2019-08-26', 'videos', '20190806-x5-day02-crackedseed-video-02-cam2-fullDeepCut_resnet50_SeedEatingAug26shuffle2_353000.csv'),\n",
    "                os.path.join(dlcFolder, 'projects', 'SeedEating-Sarah-2019-08-26', 'videos', '20190806-x5-day02-crackedseed-video-02-cam3-fullDeepCut_resnet50_SeedEatingAug26shuffle2_353000.csv')]\n",
    "syncLabeledVideos(vidFileList, labelFileList, os.path.join(dlcFolder, 'projects', 'SeedEating-Sarah-2019-08-26', 'videos'), '20190806-x5-day02-crackedseed-video-02-synced')"
   ]
  },
  {
   "cell_type": "code",
   "execution_count": 169,
   "metadata": {},
   "outputs": [
    {
     "name": "stderr",
     "output_type": "stream",
     "text": [
      "d:\\anaconda\\envs\\cv36\\lib\\site-packages\\ipykernel_launcher.py:17: FutureWarning: elementwise comparison failed; returning scalar instead, but in the future will perform elementwise comparison\n",
      "d:\\anaconda\\envs\\cv36\\lib\\site-packages\\ipykernel_launcher.py:26: FutureWarning: elementwise comparison failed; returning scalar instead, but in the future will perform elementwise comparison\n"
     ]
    },
    {
     "name": "stdout",
     "output_type": "stream",
     "text": [
      "Frame Rate: 30.0\n",
      "[INFO] cleaning up...\n"
     ]
    }
   ],
   "source": [
    "dlcFolder = os.path.join(dDrive, 'DeepLabCut')\n",
    "vidFileList = [os.path.join(dlcFolder, 'projects', 'SeedEating-Sarah-2019-08-26', 'videos', '20190806-x4-day02-crackedseed-video-02-cam1-full.avi'),\n",
    "              os.path.join(dlcFolder, 'projects', 'SeedEating-Sarah-2019-08-26', 'videos', '20190806-x4-day02-crackedseed-video-02-cam2-full.avi'),\n",
    "              os.path.join(dlcFolder, 'projects', 'SeedEating-Sarah-2019-08-26', 'videos', '20190806-x4-day02-crackedseed-video-02-cam3-full.avi')]\n",
    "labelFileList = [os.path.join(dlcFolder, 'projects', 'SeedEating-Sarah-2019-08-26', 'videos', '20190806-x4-day02-crackedseed-video-02-cam1-fullDeepCut_resnet50_SeedEatingAug26shuffle2_353000.csv'),\n",
    "                os.path.join(dlcFolder, 'projects', 'SeedEating-Sarah-2019-08-26', 'videos', '20190806-x4-day02-crackedseed-video-02-cam2-fullDeepCut_resnet50_SeedEatingAug26shuffle2_353000.csv'),\n",
    "                os.path.join(dlcFolder, 'projects', 'SeedEating-Sarah-2019-08-26', 'videos', '20190806-x4-day02-crackedseed-video-02-cam3-fullDeepCut_resnet50_SeedEatingAug26shuffle2_353000.csv')]\n",
    "syncLabeledVideos(vidFileList, labelFileList, os.path.join(dlcFolder, 'projects', 'SeedEating-Sarah-2019-08-26', 'videos'), '20190806-x4-day02-crackedseed-video-02-synced')"
   ]
  },
  {
   "cell_type": "code",
   "execution_count": 6,
   "metadata": {},
   "outputs": [
    {
     "name": "stderr",
     "output_type": "stream",
     "text": [
      "d:\\anaconda\\envs\\cv36\\lib\\site-packages\\ipykernel_launcher.py:17: FutureWarning: elementwise comparison failed; returning scalar instead, but in the future will perform elementwise comparison\n",
      "d:\\anaconda\\envs\\cv36\\lib\\site-packages\\ipykernel_launcher.py:26: FutureWarning: elementwise comparison failed; returning scalar instead, but in the future will perform elementwise comparison\n"
     ]
    },
    {
     "name": "stdout",
     "output_type": "stream",
     "text": [
      "Frame Rate: 30.0\n",
      "[INFO] cleaning up...\n"
     ]
    }
   ],
   "source": [
    "dlcFolder = os.path.join(dDrive, 'DeepLabCut')\n",
    "vidFileList = [os.path.join(dlcFolder, 'projects', 'SeedEating-Sarah-2019-08-26', 'videos', '20190806-x4-day02-crackedseed-video-03-cam1-full.avi'),\n",
    "              os.path.join(dlcFolder, 'projects', 'SeedEating-Sarah-2019-08-26', 'videos', '20190806-x4-day02-crackedseed-video-03-cam2-full.avi'),\n",
    "              os.path.join(dlcFolder, 'projects', 'SeedEating-Sarah-2019-08-26', 'videos', '20190806-x4-day02-crackedseed-video-03-cam3-full.avi')]\n",
    "labelFileList = [os.path.join(dlcFolder, 'projects', 'SeedEating-Sarah-2019-08-26', 'videos', '20190806-x4-day02-crackedseed-video-03-cam1-fullDeepCut_resnet50_SeedEatingAug26shuffle2_353000.csv'),\n",
    "                os.path.join(dlcFolder, 'projects', 'SeedEating-Sarah-2019-08-26', 'videos', '20190806-x4-day02-crackedseed-video-03-cam2-fullDeepCut_resnet50_SeedEatingAug26shuffle2_353000.csv'),\n",
    "                os.path.join(dlcFolder, 'projects', 'SeedEating-Sarah-2019-08-26', 'videos', '20190806-x4-day02-crackedseed-video-03-cam3-fullDeepCut_resnet50_SeedEatingAug26shuffle2_353000.csv')]\n",
    "syncLabeledVideos(vidFileList, labelFileList, os.path.join(dlcFolder, 'projects', 'SeedEating-Sarah-2019-08-26', 'videos'), '20190806-x4-day02-crackedseed-video-03-synced')"
   ]
  },
  {
   "cell_type": "code",
   "execution_count": 159,
   "metadata": {},
   "outputs": [
    {
     "ename": "NameError",
     "evalue": "name 'writer' is not defined",
     "output_type": "error",
     "traceback": [
      "\u001b[1;31m---------------------------------------------------------------------------\u001b[0m",
      "\u001b[1;31mNameError\u001b[0m                                 Traceback (most recent call last)",
      "\u001b[1;32m<ipython-input-159-263a071ec47e>\u001b[0m in \u001b[0;36m<module>\u001b[1;34m\u001b[0m\n\u001b[1;32m----> 1\u001b[1;33m \u001b[0mwriter\u001b[0m\u001b[1;33m.\u001b[0m\u001b[0mrelease\u001b[0m\u001b[1;33m(\u001b[0m\u001b[1;33m)\u001b[0m\u001b[1;33m\u001b[0m\u001b[1;33m\u001b[0m\u001b[0m\n\u001b[0m",
      "\u001b[1;31mNameError\u001b[0m: name 'writer' is not defined"
     ]
    }
   ],
   "source": [
    "writer.release()"
   ]
  },
  {
   "cell_type": "code",
   "execution_count": 103,
   "metadata": {},
   "outputs": [
    {
     "data": {
      "text/plain": [
       "'393.8775372505188'"
      ]
     },
     "execution_count": 103,
     "metadata": {},
     "output_type": "execute_result"
    }
   ],
   "source": [
    "bodyParts['nose']['x'][0]"
   ]
  },
  {
   "cell_type": "code",
   "execution_count": null,
   "metadata": {},
   "outputs": [],
   "source": []
  }
 ],
 "metadata": {
  "kernelspec": {
   "display_name": "Python 3",
   "language": "python",
   "name": "python3"
  },
  "language_info": {
   "codemirror_mode": {
    "name": "ipython",
    "version": 3
   },
   "file_extension": ".py",
   "mimetype": "text/x-python",
   "name": "python",
   "nbconvert_exporter": "python",
   "pygments_lexer": "ipython3",
   "version": "3.6.8"
  }
 },
 "nbformat": 4,
 "nbformat_minor": 2
}
